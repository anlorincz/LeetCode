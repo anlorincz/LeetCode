{
 "cells": [
  {
   "cell_type": "markdown",
   "id": "1195887d",
   "metadata": {},
   "source": [
    "## 1. Twosum"
   ]
  },
  {
   "cell_type": "code",
   "execution_count": 10,
   "id": "0f1df343",
   "metadata": {},
   "outputs": [],
   "source": [
    "import numpy as np\n",
    "class Solution:\n",
    "    def twoSum(self,nums,target):\n",
    "        return np.where(np.isin(nums,np.array([x for x in list(combinations(nums,2)) if sum(x) == target])))[0]\n"
   ]
  },
  {
   "cell_type": "markdown",
   "id": "0c5557d5",
   "metadata": {},
   "source": [
    "## 9. Palindrome Number"
   ]
  },
  {
   "cell_type": "code",
   "execution_count": 11,
   "id": "bd824deb",
   "metadata": {},
   "outputs": [],
   "source": [
    "class Solution:\n",
    "    def isPalindrome(self, x: int) -> bool:\n",
    "        return str(x) == str(x)[::-1]\n",
    "        "
   ]
  },
  {
   "cell_type": "markdown",
   "id": "eb91b12e",
   "metadata": {},
   "source": [
    "## 13. Roman to Integer"
   ]
  },
  {
   "cell_type": "code",
   "execution_count": 90,
   "id": "a974de22",
   "metadata": {},
   "outputs": [],
   "source": [
    "class Solution:\n",
    "    def romanToInt(self, s: str) -> int:\n",
    "        for key,value in {\"IV\" : \"4_\", \"IX\" : \"9_\", \"XL\" : \"40_\",\"XC\" : \"90_\", \"CD\" : \"400_\",\"CM\": \"900_\",\"I\": '1_', \"V\": '5_', \"X\": '10_', \"L\": '50_', \"C\": '100_', \"D\":'500_', \"M\": '1000_'}.items():\n",
    "            s = s.replace(key, value)\n",
    "        return sum([int(i) for i in s.split(\"_\")[:-1]])"
   ]
  },
  {
   "cell_type": "markdown",
   "id": "c500d876",
   "metadata": {},
   "source": [
    "## 14. Longest Common Prefix"
   ]
  },
  {
   "cell_type": "code",
   "execution_count": 167,
   "id": "9691d2ad",
   "metadata": {},
   "outputs": [],
   "source": [
    "class Solution:\n",
    "    def longestCommonPrefix(self, strs) -> str:\n",
    "        prefix = []\n",
    "        for l in range(min([len(s) for s in  strs])+1):\n",
    "            if len(set([s[:l] for s in strs])) == 1:\n",
    "                prefix.append(l)\n",
    "        return strs[0][:prefix[-1]]"
   ]
  },
  {
   "cell_type": "markdown",
   "id": "992b2eb7",
   "metadata": {},
   "source": [
    "## 20. Valid Parentheses"
   ]
  },
  {
   "cell_type": "markdown",
   "id": "de10833d",
   "metadata": {},
   "source": [
    "## 21. Merge Two Sorted Lists"
   ]
  },
  {
   "cell_type": "code",
   "execution_count": null,
   "id": "ba87a73c",
   "metadata": {},
   "outputs": [],
   "source": []
  },
  {
   "cell_type": "code",
   "execution_count": null,
   "id": "30896d5c",
   "metadata": {},
   "outputs": [],
   "source": []
  }
 ],
 "metadata": {
  "kernelspec": {
   "display_name": "Python 3 (ipykernel)",
   "language": "python",
   "name": "python3"
  },
  "language_info": {
   "codemirror_mode": {
    "name": "ipython",
    "version": 3
   },
   "file_extension": ".py",
   "mimetype": "text/x-python",
   "name": "python",
   "nbconvert_exporter": "python",
   "pygments_lexer": "ipython3",
   "version": "3.9.10"
  }
 },
 "nbformat": 4,
 "nbformat_minor": 5
}
