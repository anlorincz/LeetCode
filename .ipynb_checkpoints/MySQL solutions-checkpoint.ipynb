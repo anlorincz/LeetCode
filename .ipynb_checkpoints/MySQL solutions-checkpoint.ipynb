{
 "cells": [
  {
   "cell_type": "code",
   "execution_count": 2,
   "id": "aa1e11af",
   "metadata": {},
   "outputs": [],
   "source": [
    "import duckdb\n",
    "con = duckdb.connect(database=':memory:')"
   ]
  },
  {
   "cell_type": "markdown",
   "id": "0272fa3a",
   "metadata": {},
   "source": [
    "### Automatically create tables"
   ]
  },
  {
   "cell_type": "code",
   "execution_count": 3,
   "id": "a7c5684f",
   "metadata": {},
   "outputs": [],
   "source": [
    "def get_query(input_db, tablename):\n",
    "    feautures = []\n",
    "    inputs_clean= [i for i in input_db.replace(\"\\n\", \"\").split(\"|\") if i != \"\"]\n",
    "    values = []\n",
    "    k = 0\n",
    "    for i in range(int(len(inputs_clean)//2)):\n",
    "        values.append(inputs_clean[k] + inputs_clean[k+1] + \",  \")\n",
    "        feautures.append(inputs_clean[k])\n",
    "        k += 2\n",
    "    query = \"CREATE TABLE IF NOT EXISTS \" + str(tablename) + \"(\"  +     \"\".join(values)+ \")\"\n",
    "    return query, feautures\n",
    "\n",
    "def get_inser_query(input_values, tablename,feautures ):\n",
    "    nr_of_features = len(feautures)\n",
    "    query_lst = []\n",
    "    k = 0\n",
    "    values_clean =  [i for i in input_values.replace(\"\\n\", \"\").split(\"|\") if i != \"\"]\n",
    "    for i in range(int(len(values_clean)//nr_of_features)):\n",
    "        query_lst.append( \"(\" + \"\".join([\"'\" + str(v).replace(\" \", \"\") +\"'\" + \",\" for v in values_clean[k:k+nr_of_features]]) + \")\")\n",
    "        k += nr_of_features\n",
    "        insert_query = \"INSERT INTO \" + tablename + \"(\" + \",\".join(feautures) + \")\" +  \"   VALUES \"+\",\".join(query_lst) + \";\"   \n",
    "    return insert_query\n",
    "\n",
    "def make_and_fill_table(tablename):\n",
    "    global input_values\n",
    "    global input_db\n",
    "    query , feautures = get_query(input_db, tablename)\n",
    "    con.execute(query)\n",
    "    con.execute(get_inser_query(input_values, tablename,feautures ))"
   ]
  },
  {
   "cell_type": "markdown",
   "id": "47f801c3",
   "metadata": {},
   "source": [
    "# 1699. Number of Calls Between Two Persons"
   ]
  },
  {
   "cell_type": "code",
   "execution_count": 2,
   "id": "9dc5fef9",
   "metadata": {},
   "outputs": [
    {
     "data": {
      "text/plain": [
       "<duckdb.DuckDBPyConnection at 0x1038daa30>"
      ]
     },
     "execution_count": 2,
     "metadata": {},
     "output_type": "execute_result"
    }
   ],
   "source": [
    "con.execute('''\n",
    "CREATE TABLE IF NOT EXISTS Calls (\n",
    "    from_id int NOT NULL,\n",
    "    to_id int NOT NULL,\n",
    "    duration int NOT NULL\n",
    "    )\n",
    "''')\n",
    "\n",
    "con.execute('''\n",
    "INSERT INTO Calls (from_id,  to_id, duration)\n",
    "VALUES\n",
    "(1  ,2     , 59   ),\n",
    "(2  ,1     , 11   ),\n",
    "(1  ,3     , 20   ),\n",
    "(3  ,4     , 100  ),\n",
    "(3  ,4     , 200  ),\n",
    "(3  ,4     , 200  ),\n",
    "(4  ,3     , 499  ),; ''')"
   ]
  },
  {
   "cell_type": "code",
   "execution_count": 3,
   "id": "71d7fb13",
   "metadata": {},
   "outputs": [
    {
     "data": {
      "text/html": [
       "<div>\n",
       "<style scoped>\n",
       "    .dataframe tbody tr th:only-of-type {\n",
       "        vertical-align: middle;\n",
       "    }\n",
       "\n",
       "    .dataframe tbody tr th {\n",
       "        vertical-align: top;\n",
       "    }\n",
       "\n",
       "    .dataframe thead th {\n",
       "        text-align: right;\n",
       "    }\n",
       "</style>\n",
       "<table border=\"1\" class=\"dataframe\">\n",
       "  <thead>\n",
       "    <tr style=\"text-align: right;\">\n",
       "      <th></th>\n",
       "      <th>person1</th>\n",
       "      <th>person2</th>\n",
       "      <th>call_count</th>\n",
       "      <th>total_duration</th>\n",
       "    </tr>\n",
       "  </thead>\n",
       "  <tbody>\n",
       "    <tr>\n",
       "      <th>0</th>\n",
       "      <td>1</td>\n",
       "      <td>2</td>\n",
       "      <td>2.0</td>\n",
       "      <td>70.0</td>\n",
       "    </tr>\n",
       "    <tr>\n",
       "      <th>1</th>\n",
       "      <td>1</td>\n",
       "      <td>3</td>\n",
       "      <td>1.0</td>\n",
       "      <td>20.0</td>\n",
       "    </tr>\n",
       "    <tr>\n",
       "      <th>2</th>\n",
       "      <td>3</td>\n",
       "      <td>4</td>\n",
       "      <td>4.0</td>\n",
       "      <td>999.0</td>\n",
       "    </tr>\n",
       "  </tbody>\n",
       "</table>\n",
       "</div>"
      ],
      "text/plain": [
       "   person1  person2  call_count  total_duration\n",
       "0        1        2         2.0            70.0\n",
       "1        1        3         1.0            20.0\n",
       "2        3        4         4.0           999.0"
      ]
     },
     "execution_count": 3,
     "metadata": {},
     "output_type": "execute_result"
    }
   ],
   "source": [
    "con.execute(\"\"\"\n",
    "SELECT person1, person2, sum(calls) AS call_count,  sum(duration) as total_duration\n",
    "FROM \n",
    "( select \n",
    "    from_id as person1, \n",
    "    to_id as person2, \n",
    "    1 as calls, \n",
    "    duration\n",
    "    from Calls\n",
    "    where from_id < to_id\n",
    "    union all\n",
    "    select \n",
    "    to_id as person1, \n",
    "    from_id as person2, \n",
    "    1 as calls, \n",
    "    duration\n",
    "    from Calls\n",
    "    where to_id < from_id)  c\n",
    "GROUP BY person1, person2\n",
    "\"\"\").fetchdf()"
   ]
  },
  {
   "cell_type": "markdown",
   "id": "3a13656e",
   "metadata": {},
   "source": [
    "# 1445. Apples & Oranges"
   ]
  },
  {
   "cell_type": "code",
   "execution_count": 22,
   "id": "b9cd697c",
   "metadata": {},
   "outputs": [
    {
     "data": {
      "text/plain": [
       "<duckdb.DuckDBPyConnection at 0x112f2f630>"
      ]
     },
     "execution_count": 22,
     "metadata": {},
     "output_type": "execute_result"
    }
   ],
   "source": [
    "con.execute('''\n",
    "CREATE TABLE IF NOT EXISTS Sales (\n",
    "    sale_date date NOT NULL,\n",
    "    fruit varchar(32) NOT NULL,\n",
    "    sold_num int NOT NULL\n",
    "    )\n",
    "''')\n",
    "\n",
    "con.execute('''\n",
    "INSERT INTO Sales (sale_date,  fruit, sold_num)\n",
    "VALUES\n",
    "('2020-05-01'   , 'apples'    , 10   ),\n",
    "('2020-05-01 ', 'oranges', 8),\n",
    "(' 2020-05-02  ', 'apples', 15),\n",
    "('2020-05-02 ', 'oranges', 15),\n",
    "\n",
    "\n",
    "('2020-05-03 ', 'apples', 20),\n",
    "('2020-05-03 ', 'oranges', 0),\n",
    "('2020-05-04 ', 'apples', 15),\n",
    "('2020-05-04 ', 'oranges', 16)\n",
    "\n",
    "\n",
    "; ''')"
   ]
  },
  {
   "cell_type": "code",
   "execution_count": 78,
   "id": "209d4909",
   "metadata": {},
   "outputs": [
    {
     "data": {
      "text/html": [
       "<div>\n",
       "<style scoped>\n",
       "    .dataframe tbody tr th:only-of-type {\n",
       "        vertical-align: middle;\n",
       "    }\n",
       "\n",
       "    .dataframe tbody tr th {\n",
       "        vertical-align: top;\n",
       "    }\n",
       "\n",
       "    .dataframe thead th {\n",
       "        text-align: right;\n",
       "    }\n",
       "</style>\n",
       "<table border=\"1\" class=\"dataframe\">\n",
       "  <thead>\n",
       "    <tr style=\"text-align: right;\">\n",
       "      <th></th>\n",
       "      <th>sale_date</th>\n",
       "      <th>diff</th>\n",
       "    </tr>\n",
       "  </thead>\n",
       "  <tbody>\n",
       "    <tr>\n",
       "      <th>0</th>\n",
       "      <td>2020-05-01</td>\n",
       "      <td>2.0</td>\n",
       "    </tr>\n",
       "    <tr>\n",
       "      <th>1</th>\n",
       "      <td>2020-05-02</td>\n",
       "      <td>0.0</td>\n",
       "    </tr>\n",
       "    <tr>\n",
       "      <th>2</th>\n",
       "      <td>2020-05-03</td>\n",
       "      <td>20.0</td>\n",
       "    </tr>\n",
       "    <tr>\n",
       "      <th>3</th>\n",
       "      <td>2020-05-04</td>\n",
       "      <td>-1.0</td>\n",
       "    </tr>\n",
       "  </tbody>\n",
       "</table>\n",
       "</div>"
      ],
      "text/plain": [
       "   sale_date  diff\n",
       "0 2020-05-01   2.0\n",
       "1 2020-05-02   0.0\n",
       "2 2020-05-03  20.0\n",
       "3 2020-05-04  -1.0"
      ]
     },
     "execution_count": 78,
     "metadata": {},
     "output_type": "execute_result"
    }
   ],
   "source": [
    "con.execute(\"\"\"\n",
    "SELECT sale_date, sum(sold_num) as diff\n",
    "FROM (\n",
    "SELECT  sale_date, count(fruit) as fruit, sum(sold_num) as sold_num\n",
    "FROM Sales\n",
    "WHERE fruit = 'apples'\n",
    "GROUP BY sale_date\n",
    "\n",
    "union \n",
    "SELECT  sale_date, count(fruit) as fruit, -sum(sold_num) as sold_num\n",
    "FROM Sales\n",
    "WHERE fruit = 'oranges'\n",
    "GROUP BY sale_date) c\n",
    "\n",
    "GROUP BY sale_date\n",
    "\n",
    "\"\"\").fetchdf()"
   ]
  },
  {
   "cell_type": "markdown",
   "id": "6fa710a6",
   "metadata": {},
   "source": [
    "# 1251. Average Selling Price"
   ]
  },
  {
   "cell_type": "code",
   "execution_count": 89,
   "id": "1aaeac8f",
   "metadata": {},
   "outputs": [
    {
     "data": {
      "text/plain": [
       "<duckdb.DuckDBPyConnection at 0x113148fb0>"
      ]
     },
     "execution_count": 89,
     "metadata": {},
     "output_type": "execute_result"
    }
   ],
   "source": [
    "con.execute('''\n",
    "CREATE TABLE IF NOT EXISTS Prices (\n",
    "    product_id int NOT NULL,\n",
    "    start_date date NOT NULL,\n",
    "    end_date date NOT NULL,\n",
    "    price int NOT NULL\n",
    "    )\n",
    "''')\n",
    "\n",
    "con.execute('''\n",
    "CREATE TABLE IF NOT EXISTS UnitsSold (\n",
    "    product_id int NOT NULL,\n",
    "    purchase_date date NOT NULL,\n",
    "    units int NOT NULL\n",
    "    )\n",
    "''')\n",
    "\n",
    "con.execute('''\n",
    "INSERT INTO Prices (product_id,  start_date, end_date, price)\n",
    "VALUES\n",
    "(1,  '2019-02-17', '2019-02-28',  5    ),\n",
    "(1,  '2019-03-01', '2019-03-22',  20    ),\n",
    "(2,  '2019-02-01', '2019-02-20',  15   ),\n",
    "(2,  '2019-02-21', '2019-03-31',  30    )\n",
    "\n",
    "; ''')\n",
    "\n",
    "\n",
    "con.execute('''\n",
    "INSERT INTO UnitsSold (product_id,  purchase_date, units)\n",
    "VALUES\n",
    "(1, '2019-02-25',  100    ),\n",
    "(1,  '2019-03-01',  15    ),\n",
    "(2,  '2019-02-10',  200  ),\n",
    "(2,   '2019-03-22',  30    )\n",
    "\n",
    "; ''')"
   ]
  },
  {
   "cell_type": "code",
   "execution_count": 129,
   "id": "75d239b7",
   "metadata": {},
   "outputs": [
    {
     "data": {
      "text/html": [
       "<div>\n",
       "<style scoped>\n",
       "    .dataframe tbody tr th:only-of-type {\n",
       "        vertical-align: middle;\n",
       "    }\n",
       "\n",
       "    .dataframe tbody tr th {\n",
       "        vertical-align: top;\n",
       "    }\n",
       "\n",
       "    .dataframe thead th {\n",
       "        text-align: right;\n",
       "    }\n",
       "</style>\n",
       "<table border=\"1\" class=\"dataframe\">\n",
       "  <thead>\n",
       "    <tr style=\"text-align: right;\">\n",
       "      <th></th>\n",
       "      <th>product_id</th>\n",
       "      <th>average_price</th>\n",
       "    </tr>\n",
       "  </thead>\n",
       "  <tbody>\n",
       "    <tr>\n",
       "      <th>0</th>\n",
       "      <td>1</td>\n",
       "      <td>6.0</td>\n",
       "    </tr>\n",
       "    <tr>\n",
       "      <th>1</th>\n",
       "      <td>2</td>\n",
       "      <td>16.0</td>\n",
       "    </tr>\n",
       "  </tbody>\n",
       "</table>\n",
       "</div>"
      ],
      "text/plain": [
       "   product_id  average_price\n",
       "0           1            6.0\n",
       "1           2           16.0"
      ]
     },
     "execution_count": 129,
     "metadata": {},
     "output_type": "execute_result"
    }
   ],
   "source": [
    "con.execute(\"\"\"\n",
    "SELECT product_id, ROUND(sum(income) / sum(units),2) as 'average_price'\n",
    "FROM(\n",
    "SELECT  UnitsSold.product_id, (UnitsSold.units * Prices.price) AS 'income' , units\n",
    "FROM Prices\n",
    "JOIN UnitsSold ON Prices.product_id = UnitsSold.product_id WHERE purchase_date <= end_date and purchase_date>=start_date) c\n",
    "GROUP BY product_id\n",
    "\n",
    "\"\"\").fetchdf()"
   ]
  },
  {
   "cell_type": "markdown",
   "id": "c4b5d1d6",
   "metadata": {},
   "source": [
    "# 1571. Warehouse Manager"
   ]
  },
  {
   "cell_type": "code",
   "execution_count": 150,
   "id": "befbbdb9",
   "metadata": {},
   "outputs": [
    {
     "data": {
      "text/plain": [
       "<duckdb.DuckDBPyConnection at 0x11327c830>"
      ]
     },
     "execution_count": 150,
     "metadata": {},
     "output_type": "execute_result"
    }
   ],
   "source": [
    "con.execute('''\n",
    "CREATE TABLE IF NOT EXISTS Warehouse (\n",
    "    name varchar NOT NULL,\n",
    "    product_id int NOT NULL,\n",
    "    units int NOT NULL\n",
    "    )\n",
    "''')\n",
    "\n",
    "con.execute('''\n",
    "CREATE TABLE IF NOT EXISTS Products (\n",
    "    product_id int NOT NULL,\n",
    "    product_name varchar NOT NULL,\n",
    "    Width int NOT NULL,\n",
    "    Length int NOT NULL,\n",
    "    Height int NOT NULL\n",
    "    )\n",
    "''')\n",
    "\n",
    "con.execute('''\n",
    "INSERT INTO Warehouse (name,  product_id, units)\n",
    "VALUES\n",
    "('LCHouse1', 1,1),\n",
    "('LCHouse1', 2,10),\n",
    "('LCHouse1', 3,5),\n",
    "('LCHouse2', 1,2),\n",
    "('LCHouse2', 2,2),\n",
    "('LCHouse3', 4,1)\n",
    "\n",
    "\n",
    "\n",
    "\n",
    "; ''')\n",
    "\n",
    "\n",
    "con.execute('''\n",
    "INSERT INTO Products (product_id,  product_name, Width,Length, Height )\n",
    "VALUES\n",
    "(1, 'LC-TV', 5,50,40),\n",
    "(2, 'LC-KeyChain', 5,5,5),\n",
    "(3, 'LC-Phone', 2,10,10),\n",
    "(4, 'LC-T-Shirt', 4,10,20)\n",
    "\n",
    "; ''')"
   ]
  },
  {
   "cell_type": "code",
   "execution_count": 169,
   "id": "483f5f36",
   "metadata": {},
   "outputs": [
    {
     "data": {
      "text/html": [
       "<div>\n",
       "<style scoped>\n",
       "    .dataframe tbody tr th:only-of-type {\n",
       "        vertical-align: middle;\n",
       "    }\n",
       "\n",
       "    .dataframe tbody tr th {\n",
       "        vertical-align: top;\n",
       "    }\n",
       "\n",
       "    .dataframe thead th {\n",
       "        text-align: right;\n",
       "    }\n",
       "</style>\n",
       "<table border=\"1\" class=\"dataframe\">\n",
       "  <thead>\n",
       "    <tr style=\"text-align: right;\">\n",
       "      <th></th>\n",
       "      <th>warehouse_name</th>\n",
       "      <th>volume</th>\n",
       "    </tr>\n",
       "  </thead>\n",
       "  <tbody>\n",
       "    <tr>\n",
       "      <th>0</th>\n",
       "      <td>LCHouse1</td>\n",
       "      <td>12250.0</td>\n",
       "    </tr>\n",
       "    <tr>\n",
       "      <th>1</th>\n",
       "      <td>LCHouse2</td>\n",
       "      <td>20250.0</td>\n",
       "    </tr>\n",
       "    <tr>\n",
       "      <th>2</th>\n",
       "      <td>LCHouse3</td>\n",
       "      <td>800.0</td>\n",
       "    </tr>\n",
       "  </tbody>\n",
       "</table>\n",
       "</div>"
      ],
      "text/plain": [
       "  warehouse_name   volume\n",
       "0       LCHouse1  12250.0\n",
       "1       LCHouse2  20250.0\n",
       "2       LCHouse3    800.0"
      ]
     },
     "execution_count": 169,
     "metadata": {},
     "output_type": "execute_result"
    }
   ],
   "source": [
    "con.execute(\"\"\"\n",
    "SELECT name as warehouse_name, sum(Width*Length*Height* units) as volume\n",
    "FROM Warehouse \n",
    "JOIN Products on Products.product_id = Warehouse.product_id\n",
    "GROUP BY name\n",
    "\n",
    "\"\"\").fetchdf()"
   ]
  },
  {
   "cell_type": "markdown",
   "id": "f5f89bd0",
   "metadata": {},
   "source": [
    "# 1633. Percentage of Users Attended a Contest"
   ]
  },
  {
   "cell_type": "code",
   "execution_count": 2,
   "id": "f54cbfdc",
   "metadata": {},
   "outputs": [
    {
     "data": {
      "text/plain": [
       "<duckdb.DuckDBPyConnection at 0x107647db0>"
      ]
     },
     "execution_count": 2,
     "metadata": {},
     "output_type": "execute_result"
    }
   ],
   "source": [
    "con.execute('''\n",
    "CREATE TABLE IF NOT EXISTS Users (\n",
    "    user_id int NOT NULL,\n",
    "    user_name varchar NOT NULL\n",
    "    )\n",
    "''')\n",
    "\n",
    "con.execute('''\n",
    "CREATE TABLE IF NOT EXISTS Register (\n",
    "    contest_id int NOT NULL,\n",
    "    user_id int NOT NULL,\n",
    "   \n",
    "    )\n",
    "''')\n",
    "\n",
    "con.execute('''\n",
    "INSERT INTO Users (user_id,  user_name)\n",
    "VALUES\n",
    "(6, 'Alice'),\n",
    "(2,'Bob'),\n",
    "(7, 'Alex')\n",
    "\n",
    "\n",
    "\n",
    "; ''')\n",
    "\n",
    "\n",
    "con.execute('''\n",
    "INSERT INTO Register (contest_id, user_id  )\n",
    "VALUES\n",
    "(215,6),\n",
    "(209,2),\n",
    "(208,2),\n",
    "(210,6),\n",
    "(208,6),\n",
    "(209,7),\n",
    "(209,6),\n",
    "(215,7),\n",
    "(208,7),\n",
    "(210,2),\n",
    "(207,2),\n",
    "(210,7)\n",
    "\n",
    "; ''')"
   ]
  },
  {
   "cell_type": "code",
   "execution_count": 53,
   "id": "7853c5a4",
   "metadata": {},
   "outputs": [
    {
     "data": {
      "text/html": [
       "<div>\n",
       "<style scoped>\n",
       "    .dataframe tbody tr th:only-of-type {\n",
       "        vertical-align: middle;\n",
       "    }\n",
       "\n",
       "    .dataframe tbody tr th {\n",
       "        vertical-align: top;\n",
       "    }\n",
       "\n",
       "    .dataframe thead th {\n",
       "        text-align: right;\n",
       "    }\n",
       "</style>\n",
       "<table border=\"1\" class=\"dataframe\">\n",
       "  <thead>\n",
       "    <tr style=\"text-align: right;\">\n",
       "      <th></th>\n",
       "      <th>contest_id</th>\n",
       "      <th>percentage</th>\n",
       "    </tr>\n",
       "  </thead>\n",
       "  <tbody>\n",
       "    <tr>\n",
       "      <th>0</th>\n",
       "      <td>208</td>\n",
       "      <td>100.0</td>\n",
       "    </tr>\n",
       "    <tr>\n",
       "      <th>1</th>\n",
       "      <td>209</td>\n",
       "      <td>100.0</td>\n",
       "    </tr>\n",
       "    <tr>\n",
       "      <th>2</th>\n",
       "      <td>210</td>\n",
       "      <td>100.0</td>\n",
       "    </tr>\n",
       "    <tr>\n",
       "      <th>3</th>\n",
       "      <td>207</td>\n",
       "      <td>0.0</td>\n",
       "    </tr>\n",
       "    <tr>\n",
       "      <th>4</th>\n",
       "      <td>215</td>\n",
       "      <td>0.0</td>\n",
       "    </tr>\n",
       "  </tbody>\n",
       "</table>\n",
       "</div>"
      ],
      "text/plain": [
       "   contest_id  percentage\n",
       "0         208       100.0\n",
       "1         209       100.0\n",
       "2         210       100.0\n",
       "3         207         0.0\n",
       "4         215         0.0"
      ]
     },
     "execution_count": 53,
     "metadata": {},
     "output_type": "execute_result"
    }
   ],
   "source": [
    "con.execute(\"\"\"\n",
    "SELECT contest_id, ROUND(count(user_id) /  (SELECT count(user_id)\n",
    "FROM Users ) *100,2) as percentage\n",
    "FROM Register\n",
    "GROUP BY contest_id\n",
    "ORDER BY percentage DESC, contest_id ASC\n",
    "\n",
    "\"\"\").fetchdf()"
   ]
  },
  {
   "cell_type": "markdown",
   "id": "33345993",
   "metadata": {},
   "source": [
    "# 1173. Immediate Food Delivery I"
   ]
  },
  {
   "cell_type": "code",
   "execution_count": 55,
   "id": "90a53f57",
   "metadata": {},
   "outputs": [
    {
     "data": {
      "text/plain": [
       "<duckdb.DuckDBPyConnection at 0x107647db0>"
      ]
     },
     "execution_count": 55,
     "metadata": {},
     "output_type": "execute_result"
    }
   ],
   "source": [
    "con.execute('''\n",
    "CREATE TABLE IF NOT EXISTS Delivery (\n",
    "    delivery_id int NOT NULL,\n",
    "    customer_id int NOT NULL,\n",
    "    order_date date,\n",
    "    customer_pref_delivery_date date\n",
    "    )\n",
    "''')\n",
    "\n",
    "\n",
    "con.execute('''\n",
    "INSERT INTO Delivery (delivery_id, customer_id  , order_date, customer_pref_delivery_date)\n",
    "VALUES\n",
    "(1,1, '2019-08-01', '2019-08-02'),\n",
    "(2,1, '2019-08-01', '2019-08-01'),\n",
    "(3,2, '2019-07-01', '2019-08-02'),\n",
    "\n",
    "; ''')"
   ]
  },
  {
   "cell_type": "code",
   "execution_count": 63,
   "id": "145d411c",
   "metadata": {},
   "outputs": [
    {
     "data": {
      "text/html": [
       "<div>\n",
       "<style scoped>\n",
       "    .dataframe tbody tr th:only-of-type {\n",
       "        vertical-align: middle;\n",
       "    }\n",
       "\n",
       "    .dataframe tbody tr th {\n",
       "        vertical-align: top;\n",
       "    }\n",
       "\n",
       "    .dataframe thead th {\n",
       "        text-align: right;\n",
       "    }\n",
       "</style>\n",
       "<table border=\"1\" class=\"dataframe\">\n",
       "  <thead>\n",
       "    <tr style=\"text-align: right;\">\n",
       "      <th></th>\n",
       "      <th>immediate_percentage</th>\n",
       "    </tr>\n",
       "  </thead>\n",
       "  <tbody>\n",
       "    <tr>\n",
       "      <th>0</th>\n",
       "      <td>0.0</td>\n",
       "    </tr>\n",
       "  </tbody>\n",
       "</table>\n",
       "</div>"
      ],
      "text/plain": [
       "   immediate_percentage\n",
       "0                   0.0"
      ]
     },
     "execution_count": 63,
     "metadata": {},
     "output_type": "execute_result"
    }
   ],
   "source": [
    "con.execute(\"\"\"\n",
    "SELECT  ROUND(count(customer_id) / (SELECT  count(customer_id) \n",
    "FROM Delivery)*100,2) as immediate_percentage\n",
    "FROM Delivery\n",
    "WHERE order_date = customer_pref_delivery_date\n",
    "\"\"\").fetchdf()"
   ]
  },
  {
   "cell_type": "code",
   "execution_count": 165,
   "id": "48d71d9a",
   "metadata": {},
   "outputs": [],
   "source": []
  },
  {
   "cell_type": "code",
   "execution_count": 191,
   "id": "363405cc",
   "metadata": {},
   "outputs": [],
   "source": [
    "\n",
    "       "
   ]
  },
  {
   "cell_type": "markdown",
   "id": "90b49c89",
   "metadata": {},
   "source": [
    "# 1211. Queries Quality and Percentage"
   ]
  },
  {
   "cell_type": "code",
   "execution_count": 210,
   "id": "bd063376",
   "metadata": {},
   "outputs": [],
   "source": [
    "input_db = \"\"\"\n",
    "| query_name  | varchar |\n",
    "| result      | varchar |\n",
    "| position    | int     |\n",
    "| rating      | int     |\n",
    "\"\"\"\n",
    "\n",
    "\n",
    "input_values = \"\"\"\n",
    "| Dog        | Golden Retriever  | 1        | 5      |\n",
    "| Dog        | German Shepherd   | 2        | 5      |\n",
    "| Dog        | Mule              | 200      | 1      |\n",
    "| Cat        | Shirazi           | 5        | 2      |\n",
    "| Cat        | Siamese           | 3        | 3      |\n",
    "| Cat        | Sphynx            | 7        | 4      |\n",
    "\"\"\""
   ]
  },
  {
   "cell_type": "code",
   "execution_count": 214,
   "id": "074d6bc5",
   "metadata": {},
   "outputs": [],
   "source": [
    "make_and_fill_table(\"Queries\")"
   ]
  },
  {
   "cell_type": "code",
   "execution_count": 275,
   "id": "20ac5c66",
   "metadata": {},
   "outputs": [
    {
     "data": {
      "text/html": [
       "<div>\n",
       "<style scoped>\n",
       "    .dataframe tbody tr th:only-of-type {\n",
       "        vertical-align: middle;\n",
       "    }\n",
       "\n",
       "    .dataframe tbody tr th {\n",
       "        vertical-align: top;\n",
       "    }\n",
       "\n",
       "    .dataframe thead th {\n",
       "        text-align: right;\n",
       "    }\n",
       "</style>\n",
       "<table border=\"1\" class=\"dataframe\">\n",
       "  <thead>\n",
       "    <tr style=\"text-align: right;\">\n",
       "      <th></th>\n",
       "      <th>query_name</th>\n",
       "      <th>quality</th>\n",
       "      <th>poor_query_percentage</th>\n",
       "    </tr>\n",
       "  </thead>\n",
       "  <tbody>\n",
       "    <tr>\n",
       "      <th>0</th>\n",
       "      <td>Dog</td>\n",
       "      <td>2.33</td>\n",
       "      <td>0.0</td>\n",
       "    </tr>\n",
       "    <tr>\n",
       "      <th>1</th>\n",
       "      <td>Cat</td>\n",
       "      <td>0.33</td>\n",
       "      <td>0.0</td>\n",
       "    </tr>\n",
       "  </tbody>\n",
       "</table>\n",
       "</div>"
      ],
      "text/plain": [
       "  query_name  quality  poor_query_percentage\n",
       "0        Dog     2.33                    0.0\n",
       "1        Cat     0.33                    0.0"
      ]
     },
     "execution_count": 275,
     "metadata": {},
     "output_type": "execute_result"
    }
   ],
   "source": [
    "con.execute(\"\"\"\n",
    "SELECT  query_name, ROUND(avg(rating/position),2) as quality, round((sum(if(rating <3, 1, 0))/ count(*))*100,2) AS poor_query_percentage\n",
    "FROM Queries\n",
    "GROUP BY query_name\n",
    "\n",
    "\"\"\").fetchdf()"
   ]
  },
  {
   "cell_type": "markdown",
   "id": "fb2b9fe2",
   "metadata": {},
   "source": [
    "# 1193. Monthly Transactions I"
   ]
  },
  {
   "cell_type": "code",
   "execution_count": 276,
   "id": "f9922b34",
   "metadata": {},
   "outputs": [],
   "source": [
    "input_db = \"\"\"\n",
    "| id            | int     |\n",
    "| country       | varchar |\n",
    "| state         | varchar    |\n",
    "| amount        | int     |\n",
    "| trans_date    | date    |\n",
    "\n",
    "\"\"\"\n",
    "\n",
    "\n",
    "input_values = \"\"\"\n",
    "| 121  | US      | approved | 1000   | 2018-12-18 |\n",
    "| 122  | US      | declined | 2000   | 2018-12-19 |\n",
    "| 123  | US      | approved | 2000   | 2019-01-01 |\n",
    "| 124  | DE      | approved | 2000   | 2019-01-07 |\n",
    "\n",
    "\"\"\"\n",
    "\n",
    "make_and_fill_table(\"Transactions\")"
   ]
  },
  {
   "cell_type": "code",
   "execution_count": 341,
   "id": "6837a00c",
   "metadata": {},
   "outputs": [
    {
     "data": {
      "text/html": [
       "<div>\n",
       "<style scoped>\n",
       "    .dataframe tbody tr th:only-of-type {\n",
       "        vertical-align: middle;\n",
       "    }\n",
       "\n",
       "    .dataframe tbody tr th {\n",
       "        vertical-align: top;\n",
       "    }\n",
       "\n",
       "    .dataframe thead th {\n",
       "        text-align: right;\n",
       "    }\n",
       "</style>\n",
       "<table border=\"1\" class=\"dataframe\">\n",
       "  <thead>\n",
       "    <tr style=\"text-align: right;\">\n",
       "      <th></th>\n",
       "      <th>country</th>\n",
       "      <th>approved_count</th>\n",
       "    </tr>\n",
       "  </thead>\n",
       "  <tbody>\n",
       "    <tr>\n",
       "      <th>0</th>\n",
       "      <td>US</td>\n",
       "      <td>3000.0</td>\n",
       "    </tr>\n",
       "    <tr>\n",
       "      <th>1</th>\n",
       "      <td>DE</td>\n",
       "      <td>2000.0</td>\n",
       "    </tr>\n",
       "  </tbody>\n",
       "</table>\n",
       "</div>"
      ],
      "text/plain": [
       "  country  approved_count\n",
       "0      US          3000.0\n",
       "1      DE          2000.0"
      ]
     },
     "execution_count": 341,
     "metadata": {},
     "output_type": "execute_result"
    }
   ],
   "source": [
    "con.execute(\"\"\"\n",
    "SELECT  DATE_FORMAT(trans_date, '%Y-%m') as month, country, \n",
    "COUNT(state) AS trans_count,\n",
    "COUNT(IF(state = 'approved', 1, NULL)) AS approved_count,\n",
    "SUM(amount) AS trans_total_amount,\n",
    "SUM(CASE WHEN state = 'approved' THEN amount ELSE 0 END) as approved_total_amount\n",
    "\n",
    "\n",
    "FROM Transactions\n",
    "GROUP BY month, country\n",
    "\n",
    "\"\"\").fetchdf()"
   ]
  },
  {
   "cell_type": "markdown",
   "id": "42755680",
   "metadata": {},
   "source": [
    "# 1607. Sellers With No Sales"
   ]
  },
  {
   "cell_type": "code",
   "execution_count": 4,
   "id": "fe2ef56a",
   "metadata": {},
   "outputs": [],
   "source": [
    "input_db = \"\"\"\n",
    "| customer_id   | int     |\n",
    "| customer_name | varchar |\n",
    "\n",
    "\"\"\"\n",
    "\n",
    "\n",
    "input_values = \"\"\"\n",
    "| 101          | Alice         |\n",
    "| 102          | Bob           |\n",
    "| 103          | Charlie       |\n",
    "\n",
    "\"\"\"\n",
    "\n",
    "make_and_fill_table(\"Customer\")"
   ]
  },
  {
   "cell_type": "code",
   "execution_count": null,
   "id": "1bd4aff1",
   "metadata": {},
   "outputs": [],
   "source": [
    "input_db = \"\"\"\n",
    "| customer_id   | int     |\n",
    "| customer_name | varchar |\n",
    "\n",
    "\"\"\"\n",
    "\n",
    "\n",
    "input_values = \"\"\"\n",
    "| 101          | Alice         |\n",
    "| 102          | Bob           |\n",
    "| 103          | Charlie       |\n",
    "\n",
    "\"\"\"\n",
    "\n",
    "make_and_fill_table(\"Customer\")\n"
   ]
  },
  {
   "cell_type": "code",
   "execution_count": 6,
   "id": "5742825f",
   "metadata": {},
   "outputs": [],
   "source": [
    "input_db = \"\"\"\n",
    "| order_id      | int     |\n",
    "| sale_date     | date    |\n",
    "| order_cost    | int     |\n",
    "| customer_id   | int     |\n",
    "| seller_id     | int     |\n",
    "\n",
    "\"\"\"\n",
    "\n",
    "\n",
    "input_values = \"\"\"\n",
    "| 1           | 2020-03-01 | 1500         | 101         | 1           |\n",
    "| 2           | 2020-05-25 | 2400         | 102         | 2           |\n",
    "| 3           | 2019-05-25 | 800          | 101         | 3           |\n",
    "| 4           | 2020-09-13 | 1000         | 103         | 2           |\n",
    "| 5           | 2019-02-11 | 700          | 101         | 2           |\n",
    "\"\"\"\n",
    "\n",
    "make_and_fill_table(\"Orders\")\n"
   ]
  },
  {
   "cell_type": "code",
   "execution_count": 8,
   "id": "d4ee5a9e",
   "metadata": {},
   "outputs": [],
   "source": [
    "input_db = \"\"\"\n",
    "| seller_id     | int     |\n",
    "| seller_name   | varchar |\n",
    "\n",
    "\"\"\"\n",
    "\n",
    "\n",
    "input_values = \"\"\"\n",
    "| 1           | Daniel      |\n",
    "| 2           | Elizabeth   |\n",
    "| 3           | Frank       |\n",
    "\"\"\"\n",
    "\n",
    "make_and_fill_table(\"Seller\")"
   ]
  },
  {
   "cell_type": "code",
   "execution_count": 44,
   "id": "24331087",
   "metadata": {},
   "outputs": [
    {
     "data": {
      "text/html": [
       "<div>\n",
       "<style scoped>\n",
       "    .dataframe tbody tr th:only-of-type {\n",
       "        vertical-align: middle;\n",
       "    }\n",
       "\n",
       "    .dataframe tbody tr th {\n",
       "        vertical-align: top;\n",
       "    }\n",
       "\n",
       "    .dataframe thead th {\n",
       "        text-align: right;\n",
       "    }\n",
       "</style>\n",
       "<table border=\"1\" class=\"dataframe\">\n",
       "  <thead>\n",
       "    <tr style=\"text-align: right;\">\n",
       "      <th></th>\n",
       "      <th>seller_name</th>\n",
       "    </tr>\n",
       "  </thead>\n",
       "  <tbody>\n",
       "    <tr>\n",
       "      <th>0</th>\n",
       "      <td>Frank</td>\n",
       "    </tr>\n",
       "  </tbody>\n",
       "</table>\n",
       "</div>"
      ],
      "text/plain": [
       "  seller_name\n",
       "0       Frank"
      ]
     },
     "execution_count": 44,
     "metadata": {},
     "output_type": "execute_result"
    }
   ],
   "source": [
    "con.execute(\"\"\"\n",
    "(SELECT DISTINCT seller_name\n",
    "FROM Seller)\n",
    "EXCEPT \n",
    "(SELECT DISTINCT seller_name\n",
    "FROM Orders\n",
    "JOIN Seller ON Seller.seller_id =  Orders.seller_id\n",
    "WHERE YEAR(Orders.sale_date)  = 2020)\n",
    "\n",
    "\"\"\").fetchdf()"
   ]
  },
  {
   "cell_type": "markdown",
   "id": "cd6128bf",
   "metadata": {},
   "source": [
    "# 619. Biggest Single Number\n"
   ]
  },
  {
   "cell_type": "code",
   "execution_count": 76,
   "id": "38bf2ce4",
   "metadata": {},
   "outputs": [],
   "source": [
    "import duckdb\n",
    "con = duckdb.connect(database=':memory:')\n",
    "\n",
    "input_db = \"\"\"\n",
    "| num         | int  |\n",
    "\n",
    "\"\"\"\n",
    "\n",
    "\n",
    "input_values = \"\"\"\n",
    "| 8   |\n",
    "| 8   |\n",
    "| 3   |\n",
    "| 3   |\n",
    "\n",
    "\n",
    "\n",
    "\n",
    "\"\"\"\n",
    "\n",
    "make_and_fill_table(\"MyNumbers\")"
   ]
  },
  {
   "cell_type": "code",
   "execution_count": 82,
   "id": "1c85abb8",
   "metadata": {},
   "outputs": [
    {
     "data": {
      "text/html": [
       "<div>\n",
       "<style scoped>\n",
       "    .dataframe tbody tr th:only-of-type {\n",
       "        vertical-align: middle;\n",
       "    }\n",
       "\n",
       "    .dataframe tbody tr th {\n",
       "        vertical-align: top;\n",
       "    }\n",
       "\n",
       "    .dataframe thead th {\n",
       "        text-align: right;\n",
       "    }\n",
       "</style>\n",
       "<table border=\"1\" class=\"dataframe\">\n",
       "  <thead>\n",
       "    <tr style=\"text-align: right;\">\n",
       "      <th></th>\n",
       "      <th>num</th>\n",
       "    </tr>\n",
       "  </thead>\n",
       "  <tbody>\n",
       "  </tbody>\n",
       "</table>\n",
       "</div>"
      ],
      "text/plain": [
       "Empty DataFrame\n",
       "Columns: [num]\n",
       "Index: []"
      ]
     },
     "execution_count": 82,
     "metadata": {},
     "output_type": "execute_result"
    }
   ],
   "source": [
    "con.execute(\"\"\"\n",
    "SELECT (CASE WHEN num > 0 THEN num ELSE 0 END) as num\n",
    "FROM \n",
    "(SELECT NUM \n",
    "FROM \n",
    "(SELECT num, count(num) as amount\n",
    "FROM MyNumbers\n",
    "GROUP BY num\n",
    "HAVING amount = 1\n",
    "ORDER BY num DESC) LIMIT 1)\n",
    "\"\"\").fetchdf()"
   ]
  },
  {
   "cell_type": "code",
   "execution_count": null,
   "id": "1707c440",
   "metadata": {},
   "outputs": [],
   "source": []
  }
 ],
 "metadata": {
  "kernelspec": {
   "display_name": "Python 3 (ipykernel)",
   "language": "python",
   "name": "python3"
  },
  "language_info": {
   "codemirror_mode": {
    "name": "ipython",
    "version": 3
   },
   "file_extension": ".py",
   "mimetype": "text/x-python",
   "name": "python",
   "nbconvert_exporter": "python",
   "pygments_lexer": "ipython3",
   "version": "3.9.10"
  }
 },
 "nbformat": 4,
 "nbformat_minor": 5
}
