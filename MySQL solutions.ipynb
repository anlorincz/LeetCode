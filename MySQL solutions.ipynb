{
 "cells": [
  {
   "cell_type": "code",
   "execution_count": 149,
   "id": "aa1e11af",
   "metadata": {},
   "outputs": [],
   "source": [
    "import duckdb\n",
    "con = duckdb.connect(database=':memory:')"
   ]
  },
  {
   "cell_type": "markdown",
   "id": "47f801c3",
   "metadata": {},
   "source": [
    "# 1699. Number of Calls Between Two Persons"
   ]
  },
  {
   "cell_type": "code",
   "execution_count": 2,
   "id": "9dc5fef9",
   "metadata": {},
   "outputs": [
    {
     "data": {
      "text/plain": [
       "<duckdb.DuckDBPyConnection at 0x1038daa30>"
      ]
     },
     "execution_count": 2,
     "metadata": {},
     "output_type": "execute_result"
    }
   ],
   "source": [
    "con.execute('''\n",
    "CREATE TABLE IF NOT EXISTS Calls (\n",
    "    from_id int NOT NULL,\n",
    "    to_id int NOT NULL,\n",
    "    duration int NOT NULL\n",
    "    )\n",
    "''')\n",
    "\n",
    "con.execute('''\n",
    "INSERT INTO Calls (from_id,  to_id, duration)\n",
    "VALUES\n",
    "(1  ,2     , 59   ),\n",
    "(2  ,1     , 11   ),\n",
    "(1  ,3     , 20   ),\n",
    "(3  ,4     , 100  ),\n",
    "(3  ,4     , 200  ),\n",
    "(3  ,4     , 200  ),\n",
    "(4  ,3     , 499  ),; ''')"
   ]
  },
  {
   "cell_type": "code",
   "execution_count": 3,
   "id": "71d7fb13",
   "metadata": {},
   "outputs": [
    {
     "data": {
      "text/html": [
       "<div>\n",
       "<style scoped>\n",
       "    .dataframe tbody tr th:only-of-type {\n",
       "        vertical-align: middle;\n",
       "    }\n",
       "\n",
       "    .dataframe tbody tr th {\n",
       "        vertical-align: top;\n",
       "    }\n",
       "\n",
       "    .dataframe thead th {\n",
       "        text-align: right;\n",
       "    }\n",
       "</style>\n",
       "<table border=\"1\" class=\"dataframe\">\n",
       "  <thead>\n",
       "    <tr style=\"text-align: right;\">\n",
       "      <th></th>\n",
       "      <th>person1</th>\n",
       "      <th>person2</th>\n",
       "      <th>call_count</th>\n",
       "      <th>total_duration</th>\n",
       "    </tr>\n",
       "  </thead>\n",
       "  <tbody>\n",
       "    <tr>\n",
       "      <th>0</th>\n",
       "      <td>1</td>\n",
       "      <td>2</td>\n",
       "      <td>2.0</td>\n",
       "      <td>70.0</td>\n",
       "    </tr>\n",
       "    <tr>\n",
       "      <th>1</th>\n",
       "      <td>1</td>\n",
       "      <td>3</td>\n",
       "      <td>1.0</td>\n",
       "      <td>20.0</td>\n",
       "    </tr>\n",
       "    <tr>\n",
       "      <th>2</th>\n",
       "      <td>3</td>\n",
       "      <td>4</td>\n",
       "      <td>4.0</td>\n",
       "      <td>999.0</td>\n",
       "    </tr>\n",
       "  </tbody>\n",
       "</table>\n",
       "</div>"
      ],
      "text/plain": [
       "   person1  person2  call_count  total_duration\n",
       "0        1        2         2.0            70.0\n",
       "1        1        3         1.0            20.0\n",
       "2        3        4         4.0           999.0"
      ]
     },
     "execution_count": 3,
     "metadata": {},
     "output_type": "execute_result"
    }
   ],
   "source": [
    "con.execute(\"\"\"\n",
    "SELECT person1, person2, sum(calls) AS call_count,  sum(duration) as total_duration\n",
    "FROM \n",
    "( select \n",
    "    from_id as person1, \n",
    "    to_id as person2, \n",
    "    1 as calls, \n",
    "    duration\n",
    "    from Calls\n",
    "    where from_id < to_id\n",
    "    union all\n",
    "    select \n",
    "    to_id as person1, \n",
    "    from_id as person2, \n",
    "    1 as calls, \n",
    "    duration\n",
    "    from Calls\n",
    "    where to_id < from_id)  c\n",
    "GROUP BY person1, person2\n",
    "\"\"\").fetchdf()"
   ]
  },
  {
   "cell_type": "markdown",
   "id": "3a13656e",
   "metadata": {},
   "source": [
    "# 1445. Apples & Oranges"
   ]
  },
  {
   "cell_type": "code",
   "execution_count": 22,
   "id": "b9cd697c",
   "metadata": {},
   "outputs": [
    {
     "data": {
      "text/plain": [
       "<duckdb.DuckDBPyConnection at 0x112f2f630>"
      ]
     },
     "execution_count": 22,
     "metadata": {},
     "output_type": "execute_result"
    }
   ],
   "source": [
    "con.execute('''\n",
    "CREATE TABLE IF NOT EXISTS Sales (\n",
    "    sale_date date NOT NULL,\n",
    "    fruit varchar(32) NOT NULL,\n",
    "    sold_num int NOT NULL\n",
    "    )\n",
    "''')\n",
    "\n",
    "con.execute('''\n",
    "INSERT INTO Sales (sale_date,  fruit, sold_num)\n",
    "VALUES\n",
    "('2020-05-01'   , 'apples'    , 10   ),\n",
    "('2020-05-01 ', 'oranges', 8),\n",
    "(' 2020-05-02  ', 'apples', 15),\n",
    "('2020-05-02 ', 'oranges', 15),\n",
    "\n",
    "\n",
    "('2020-05-03 ', 'apples', 20),\n",
    "('2020-05-03 ', 'oranges', 0),\n",
    "('2020-05-04 ', 'apples', 15),\n",
    "('2020-05-04 ', 'oranges', 16)\n",
    "\n",
    "\n",
    "; ''')"
   ]
  },
  {
   "cell_type": "code",
   "execution_count": 78,
   "id": "209d4909",
   "metadata": {},
   "outputs": [
    {
     "data": {
      "text/html": [
       "<div>\n",
       "<style scoped>\n",
       "    .dataframe tbody tr th:only-of-type {\n",
       "        vertical-align: middle;\n",
       "    }\n",
       "\n",
       "    .dataframe tbody tr th {\n",
       "        vertical-align: top;\n",
       "    }\n",
       "\n",
       "    .dataframe thead th {\n",
       "        text-align: right;\n",
       "    }\n",
       "</style>\n",
       "<table border=\"1\" class=\"dataframe\">\n",
       "  <thead>\n",
       "    <tr style=\"text-align: right;\">\n",
       "      <th></th>\n",
       "      <th>sale_date</th>\n",
       "      <th>diff</th>\n",
       "    </tr>\n",
       "  </thead>\n",
       "  <tbody>\n",
       "    <tr>\n",
       "      <th>0</th>\n",
       "      <td>2020-05-01</td>\n",
       "      <td>2.0</td>\n",
       "    </tr>\n",
       "    <tr>\n",
       "      <th>1</th>\n",
       "      <td>2020-05-02</td>\n",
       "      <td>0.0</td>\n",
       "    </tr>\n",
       "    <tr>\n",
       "      <th>2</th>\n",
       "      <td>2020-05-03</td>\n",
       "      <td>20.0</td>\n",
       "    </tr>\n",
       "    <tr>\n",
       "      <th>3</th>\n",
       "      <td>2020-05-04</td>\n",
       "      <td>-1.0</td>\n",
       "    </tr>\n",
       "  </tbody>\n",
       "</table>\n",
       "</div>"
      ],
      "text/plain": [
       "   sale_date  diff\n",
       "0 2020-05-01   2.0\n",
       "1 2020-05-02   0.0\n",
       "2 2020-05-03  20.0\n",
       "3 2020-05-04  -1.0"
      ]
     },
     "execution_count": 78,
     "metadata": {},
     "output_type": "execute_result"
    }
   ],
   "source": [
    "con.execute(\"\"\"\n",
    "SELECT sale_date, sum(sold_num) as diff\n",
    "FROM (\n",
    "SELECT  sale_date, count(fruit) as fruit, sum(sold_num) as sold_num\n",
    "FROM Sales\n",
    "WHERE fruit = 'apples'\n",
    "GROUP BY sale_date\n",
    "\n",
    "union \n",
    "SELECT  sale_date, count(fruit) as fruit, -sum(sold_num) as sold_num\n",
    "FROM Sales\n",
    "WHERE fruit = 'oranges'\n",
    "GROUP BY sale_date) c\n",
    "\n",
    "GROUP BY sale_date\n",
    "\n",
    "\"\"\").fetchdf()"
   ]
  },
  {
   "cell_type": "markdown",
   "id": "6fa710a6",
   "metadata": {},
   "source": [
    "# 1251. Average Selling Price"
   ]
  },
  {
   "cell_type": "code",
   "execution_count": 89,
   "id": "1aaeac8f",
   "metadata": {},
   "outputs": [
    {
     "data": {
      "text/plain": [
       "<duckdb.DuckDBPyConnection at 0x113148fb0>"
      ]
     },
     "execution_count": 89,
     "metadata": {},
     "output_type": "execute_result"
    }
   ],
   "source": [
    "con.execute('''\n",
    "CREATE TABLE IF NOT EXISTS Prices (\n",
    "    product_id int NOT NULL,\n",
    "    start_date date NOT NULL,\n",
    "    end_date date NOT NULL,\n",
    "    price int NOT NULL\n",
    "    )\n",
    "''')\n",
    "\n",
    "con.execute('''\n",
    "CREATE TABLE IF NOT EXISTS UnitsSold (\n",
    "    product_id int NOT NULL,\n",
    "    purchase_date date NOT NULL,\n",
    "    units int NOT NULL\n",
    "    )\n",
    "''')\n",
    "\n",
    "con.execute('''\n",
    "INSERT INTO Prices (product_id,  start_date, end_date, price)\n",
    "VALUES\n",
    "(1,  '2019-02-17', '2019-02-28',  5    ),\n",
    "(1,  '2019-03-01', '2019-03-22',  20    ),\n",
    "(2,  '2019-02-01', '2019-02-20',  15   ),\n",
    "(2,  '2019-02-21', '2019-03-31',  30    )\n",
    "\n",
    "; ''')\n",
    "\n",
    "\n",
    "con.execute('''\n",
    "INSERT INTO UnitsSold (product_id,  purchase_date, units)\n",
    "VALUES\n",
    "(1, '2019-02-25',  100    ),\n",
    "(1,  '2019-03-01',  15    ),\n",
    "(2,  '2019-02-10',  200  ),\n",
    "(2,   '2019-03-22',  30    )\n",
    "\n",
    "; ''')"
   ]
  },
  {
   "cell_type": "code",
   "execution_count": 129,
   "id": "75d239b7",
   "metadata": {},
   "outputs": [
    {
     "data": {
      "text/html": [
       "<div>\n",
       "<style scoped>\n",
       "    .dataframe tbody tr th:only-of-type {\n",
       "        vertical-align: middle;\n",
       "    }\n",
       "\n",
       "    .dataframe tbody tr th {\n",
       "        vertical-align: top;\n",
       "    }\n",
       "\n",
       "    .dataframe thead th {\n",
       "        text-align: right;\n",
       "    }\n",
       "</style>\n",
       "<table border=\"1\" class=\"dataframe\">\n",
       "  <thead>\n",
       "    <tr style=\"text-align: right;\">\n",
       "      <th></th>\n",
       "      <th>product_id</th>\n",
       "      <th>average_price</th>\n",
       "    </tr>\n",
       "  </thead>\n",
       "  <tbody>\n",
       "    <tr>\n",
       "      <th>0</th>\n",
       "      <td>1</td>\n",
       "      <td>6.0</td>\n",
       "    </tr>\n",
       "    <tr>\n",
       "      <th>1</th>\n",
       "      <td>2</td>\n",
       "      <td>16.0</td>\n",
       "    </tr>\n",
       "  </tbody>\n",
       "</table>\n",
       "</div>"
      ],
      "text/plain": [
       "   product_id  average_price\n",
       "0           1            6.0\n",
       "1           2           16.0"
      ]
     },
     "execution_count": 129,
     "metadata": {},
     "output_type": "execute_result"
    }
   ],
   "source": [
    "con.execute(\"\"\"\n",
    "SELECT product_id, ROUND(sum(income) / sum(units),2) as 'average_price'\n",
    "FROM(\n",
    "SELECT  UnitsSold.product_id, (UnitsSold.units * Prices.price) AS 'income' , units\n",
    "FROM Prices\n",
    "JOIN UnitsSold ON Prices.product_id = UnitsSold.product_id WHERE purchase_date <= end_date and purchase_date>=start_date) c\n",
    "GROUP BY product_id\n",
    "\n",
    "\"\"\").fetchdf()"
   ]
  },
  {
   "cell_type": "markdown",
   "id": "c4b5d1d6",
   "metadata": {},
   "source": [
    "# 1571. Warehouse Manager"
   ]
  },
  {
   "cell_type": "code",
   "execution_count": 150,
   "id": "befbbdb9",
   "metadata": {},
   "outputs": [
    {
     "data": {
      "text/plain": [
       "<duckdb.DuckDBPyConnection at 0x11327c830>"
      ]
     },
     "execution_count": 150,
     "metadata": {},
     "output_type": "execute_result"
    }
   ],
   "source": [
    "con.execute('''\n",
    "CREATE TABLE IF NOT EXISTS Warehouse (\n",
    "    name varchar NOT NULL,\n",
    "    product_id int NOT NULL,\n",
    "    units int NOT NULL\n",
    "    )\n",
    "''')\n",
    "\n",
    "con.execute('''\n",
    "CREATE TABLE IF NOT EXISTS Products (\n",
    "    product_id int NOT NULL,\n",
    "    product_name varchar NOT NULL,\n",
    "    Width int NOT NULL,\n",
    "    Length int NOT NULL,\n",
    "    Height int NOT NULL\n",
    "    )\n",
    "''')\n",
    "\n",
    "con.execute('''\n",
    "INSERT INTO Warehouse (name,  product_id, units)\n",
    "VALUES\n",
    "('LCHouse1', 1,1),\n",
    "('LCHouse1', 2,10),\n",
    "('LCHouse1', 3,5),\n",
    "('LCHouse2', 1,2),\n",
    "('LCHouse2', 2,2),\n",
    "('LCHouse3', 4,1)\n",
    "\n",
    "\n",
    "\n",
    "\n",
    "; ''')\n",
    "\n",
    "\n",
    "con.execute('''\n",
    "INSERT INTO Products (product_id,  product_name, Width,Length, Height )\n",
    "VALUES\n",
    "(1, 'LC-TV', 5,50,40),\n",
    "(2, 'LC-KeyChain', 5,5,5),\n",
    "(3, 'LC-Phone', 2,10,10),\n",
    "(4, 'LC-T-Shirt', 4,10,20)\n",
    "\n",
    "; ''')"
   ]
  },
  {
   "cell_type": "code",
   "execution_count": 169,
   "id": "483f5f36",
   "metadata": {},
   "outputs": [
    {
     "data": {
      "text/html": [
       "<div>\n",
       "<style scoped>\n",
       "    .dataframe tbody tr th:only-of-type {\n",
       "        vertical-align: middle;\n",
       "    }\n",
       "\n",
       "    .dataframe tbody tr th {\n",
       "        vertical-align: top;\n",
       "    }\n",
       "\n",
       "    .dataframe thead th {\n",
       "        text-align: right;\n",
       "    }\n",
       "</style>\n",
       "<table border=\"1\" class=\"dataframe\">\n",
       "  <thead>\n",
       "    <tr style=\"text-align: right;\">\n",
       "      <th></th>\n",
       "      <th>warehouse_name</th>\n",
       "      <th>volume</th>\n",
       "    </tr>\n",
       "  </thead>\n",
       "  <tbody>\n",
       "    <tr>\n",
       "      <th>0</th>\n",
       "      <td>LCHouse1</td>\n",
       "      <td>12250.0</td>\n",
       "    </tr>\n",
       "    <tr>\n",
       "      <th>1</th>\n",
       "      <td>LCHouse2</td>\n",
       "      <td>20250.0</td>\n",
       "    </tr>\n",
       "    <tr>\n",
       "      <th>2</th>\n",
       "      <td>LCHouse3</td>\n",
       "      <td>800.0</td>\n",
       "    </tr>\n",
       "  </tbody>\n",
       "</table>\n",
       "</div>"
      ],
      "text/plain": [
       "  warehouse_name   volume\n",
       "0       LCHouse1  12250.0\n",
       "1       LCHouse2  20250.0\n",
       "2       LCHouse3    800.0"
      ]
     },
     "execution_count": 169,
     "metadata": {},
     "output_type": "execute_result"
    }
   ],
   "source": [
    "con.execute(\"\"\"\n",
    "SELECT name as warehouse_name, sum(Width*Length*Height* units) as volume\n",
    "FROM Warehouse \n",
    "JOIN Products on Products.product_id = Warehouse.product_id\n",
    "GROUP BY name\n",
    "\n",
    "\"\"\").fetchdf()"
   ]
  },
  {
   "cell_type": "code",
   "execution_count": null,
   "id": "36999be2",
   "metadata": {},
   "outputs": [],
   "source": []
  }
 ],
 "metadata": {
  "kernelspec": {
   "display_name": "Python 3 (ipykernel)",
   "language": "python",
   "name": "python3"
  },
  "language_info": {
   "codemirror_mode": {
    "name": "ipython",
    "version": 3
   },
   "file_extension": ".py",
   "mimetype": "text/x-python",
   "name": "python",
   "nbconvert_exporter": "python",
   "pygments_lexer": "ipython3",
   "version": "3.9.10"
  }
 },
 "nbformat": 4,
 "nbformat_minor": 5
}
